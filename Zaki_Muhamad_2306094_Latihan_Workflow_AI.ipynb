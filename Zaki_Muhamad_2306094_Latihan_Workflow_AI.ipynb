{
  "nbformat": 4,
  "nbformat_minor": 0,
  "metadata": {
    "colab": {
      "provenance": [],
      "authorship_tag": "ABX9TyMGtl6wlN5Cb1VVu2ONclJV",
      "include_colab_link": true
    },
    "kernelspec": {
      "name": "python3",
      "display_name": "Python 3"
    },
    "language_info": {
      "name": "python"
    }
  },
  "cells": [
    {
      "cell_type": "markdown",
      "metadata": {
        "id": "view-in-github",
        "colab_type": "text"
      },
      "source": [
        "<a href=\"https://colab.research.google.com/github/mrzack18/Zaki_Muhamad-2306094-Latihan_Workflow_AI/blob/main/Zaki_Muhamad_2306094_Latihan_Workflow_AI.ipynb\" target=\"_parent\"><img src=\"https://colab.research.google.com/assets/colab-badge.svg\" alt=\"Open In Colab\"/></a>"
      ]
    },
    {
      "cell_type": "code",
      "source": [
        "import pandas as pd\n",
        "\n",
        "# Buat data penjualan toko\n",
        "data = {\n",
        "    \"Tanggal\": [\"2025-02-07\", \"2025-02-07\", \"2025-02-08\", \"2025-02-08\", \"2025-02-09\", \"2025-02-09\",\n",
        "                \"2025-02-10\", \"2025-02-10\", \"2025-02-11\", \"2025-02-11\"],\n",
        "    \"Produk\": [\"Minyak Goreng\", \"Beras\", \"Gula\", \"Tepung\", \"Mie Instan\", \"Susu\", \"Minyak Ikan\",\n",
        "               \"Beras Bulog\", \"Gula Padi\", \"Tepung Tapioka\"],\n",
        "    \"Jumlah Terjual\": [9, 7, 6, 5, 14, 9, 10, 8, 5, 4],\n",
        "    \"Stok\": [10, 8, 4, 6, 18, 5, 12, 9, 6, 7],\n",
        "    \"Harga Satuan\": [15000, 12000, 13000, 11000, 3000, 18000, 15000, 12000, 13000, 11000]\n",
        "}\n",
        "\n",
        "# Simpan dalam DataFrame\n",
        "df = pd.DataFrame(data)\n",
        "\n",
        "# Simpan sebagai file CSV\n",
        "df.to_csv(\"data_penjualan.csv\", index=False)\n",
        "\n",
        "print(\"File CSV berhasil dibuat dan disimpan sebagai 'data_penjualan.csv'!\")"
      ],
      "metadata": {
        "colab": {
          "base_uri": "https://localhost:8080/"
        },
        "id": "t-QFk_Np4_yR",
        "outputId": "a970b282-a86f-40f1-8609-98abc4763155"
      },
      "execution_count": 12,
      "outputs": [
        {
          "output_type": "stream",
          "name": "stdout",
          "text": [
            "File CSV berhasil dibuat dan disimpan sebagai 'data_penjualan.csv'!\n"
          ]
        }
      ]
    },
    {
      "cell_type": "code",
      "execution_count": 13,
      "metadata": {
        "colab": {
          "base_uri": "https://localhost:8080/"
        },
        "id": "vuIONWPAyaye",
        "outputId": "91ddccb8-6bce-4106-a375-b1e011ae5600"
      },
      "outputs": [
        {
          "output_type": "stream",
          "name": "stdout",
          "text": [
            "      Tanggal          Produk  Jumlah Terjual  Stok  Harga Satuan\n",
            "0  2025-02-07   Minyak Goreng               9    10         15000\n",
            "1  2025-02-07           Beras               7     8         12000\n",
            "2  2025-02-08            Gula               6     4         13000\n",
            "3  2025-02-08          Tepung               5     6         11000\n",
            "4  2025-02-09      Mie Instan              14    18          3000\n",
            "5  2025-02-09            Susu               9     5         18000\n",
            "6  2025-02-10     Minyak Ikan              10    12         15000\n",
            "7  2025-02-10     Beras Bulog               8     9         12000\n",
            "8  2025-02-11       Gula Padi               5     6         13000\n",
            "9  2025-02-11  Tepung Tapioka               4     7         11000\n"
          ]
        }
      ],
      "source": [
        "# Membaca file CSV\n",
        "df = pd.read_csv(\"data_penjualan.csv\")\n",
        "\n",
        "# Menampilkan 5 data pertama\n",
        "print(df.head(10))"
      ]
    },
    {
      "cell_type": "code",
      "source": [
        "# Cek apakah ada data yang kosong\n",
        "print(df.isnull().sum())\n",
        "\n",
        "# Konversi kolom \"Tanggal\" ke format datetime\n",
        "df[\"Tanggal\"] = pd.to_datetime(df[\"Tanggal\"])\n",
        "\n",
        "# Tambahkan kolom \"Total Penjualan\"\n",
        "df[\"Total Penjualan\"] = df[\"Jumlah Terjual\"] * df[\"Harga Satuan\"]\n",
        "\n",
        "# Tambahkan kolom \"Keuntungan\" (asumsi modal 10.000 per produk)\n",
        "df[\"Keuntungan\"] = df[\"Total Penjualan\"] - (df[\"Jumlah Terjual\"] * 10000)\n",
        "\n",
        "# Menampilkan hasil transformasi\n",
        "print(df.head(10))\n"
      ],
      "metadata": {
        "colab": {
          "base_uri": "https://localhost:8080/"
        },
        "id": "2difna_d2JzQ",
        "outputId": "48972d4e-8a17-4f16-8cc9-eb5a8ba65a09"
      },
      "execution_count": 14,
      "outputs": [
        {
          "output_type": "stream",
          "name": "stdout",
          "text": [
            "Tanggal           0\n",
            "Produk            0\n",
            "Jumlah Terjual    0\n",
            "Stok              0\n",
            "Harga Satuan      0\n",
            "dtype: int64\n",
            "     Tanggal          Produk  Jumlah Terjual  Stok  Harga Satuan  \\\n",
            "0 2025-02-07   Minyak Goreng               9    10         15000   \n",
            "1 2025-02-07           Beras               7     8         12000   \n",
            "2 2025-02-08            Gula               6     4         13000   \n",
            "3 2025-02-08          Tepung               5     6         11000   \n",
            "4 2025-02-09      Mie Instan              14    18          3000   \n",
            "5 2025-02-09            Susu               9     5         18000   \n",
            "6 2025-02-10     Minyak Ikan              10    12         15000   \n",
            "7 2025-02-10     Beras Bulog               8     9         12000   \n",
            "8 2025-02-11       Gula Padi               5     6         13000   \n",
            "9 2025-02-11  Tepung Tapioka               4     7         11000   \n",
            "\n",
            "   Total Penjualan  Keuntungan  \n",
            "0           135000       45000  \n",
            "1            84000       14000  \n",
            "2            78000       18000  \n",
            "3            55000        5000  \n",
            "4            42000      -98000  \n",
            "5           162000       72000  \n",
            "6           150000       50000  \n",
            "7            96000       16000  \n",
            "8            65000       15000  \n",
            "9            44000        4000  \n"
          ]
        }
      ]
    },
    {
      "cell_type": "code",
      "source": [
        "!pip install scikit-learn"
      ],
      "metadata": {
        "colab": {
          "base_uri": "https://localhost:8080/"
        },
        "id": "wnu19MNe2wMM",
        "outputId": "48f61ebe-66be-410a-eb6a-0d5c3c33f72f"
      },
      "execution_count": 15,
      "outputs": [
        {
          "output_type": "stream",
          "name": "stdout",
          "text": [
            "Requirement already satisfied: scikit-learn in /usr/local/lib/python3.11/dist-packages (1.6.1)\n",
            "Requirement already satisfied: numpy>=1.19.5 in /usr/local/lib/python3.11/dist-packages (from scikit-learn) (1.26.4)\n",
            "Requirement already satisfied: scipy>=1.6.0 in /usr/local/lib/python3.11/dist-packages (from scikit-learn) (1.13.1)\n",
            "Requirement already satisfied: joblib>=1.2.0 in /usr/local/lib/python3.11/dist-packages (from scikit-learn) (1.4.2)\n",
            "Requirement already satisfied: threadpoolctl>=3.1.0 in /usr/local/lib/python3.11/dist-packages (from scikit-learn) (3.5.0)\n"
          ]
        }
      ]
    },
    {
      "cell_type": "code",
      "source": [
        "from sklearn.model_selection import train_test_split\n",
        "from sklearn.tree import DecisionTreeClassifier\n",
        "from sklearn.metrics import accuracy_score\n",
        "\n",
        "# Pilih fitur (X) dan target (y)\n",
        "X = df[[\"Jumlah Terjual\", \"Stok\"]]\n",
        "y = (df[\"Stok\"] < 5).astype(int)  # 1 jika stok kurang dari 5, 0 jika cukup\n",
        "\n",
        "# Split data menjadi train dan test\n",
        "X_train, X_test, y_train, y_test = train_test_split(X, y, test_size=0.2, random_state=42)\n",
        "\n",
        "# Buat model Decision Tree\n",
        "model = DecisionTreeClassifier()\n",
        "model.fit(X_train, y_train)\n",
        "\n",
        "# Evaluasi model\n",
        "y_pred = model.predict(X_test)\n",
        "print(\"Akurasi Model:\", accuracy_score(y_test, y_pred))\n"
      ],
      "metadata": {
        "colab": {
          "base_uri": "https://localhost:8080/"
        },
        "id": "Gi4s_IpN2_87",
        "outputId": "435596a5-0de7-446a-80bd-17b6332f9f95"
      },
      "execution_count": 16,
      "outputs": [
        {
          "output_type": "stream",
          "name": "stdout",
          "text": [
            "Akurasi Model: 1.0\n"
          ]
        }
      ]
    },
    {
      "cell_type": "code",
      "source": [
        "# Contoh produk baru (jumlah terjual 8, stok tersisa 3)\n",
        "produk_baru = [[8, 3]]\n",
        "prediksi = model.predict(produk_baru)\n",
        "\n",
        "if prediksi[0] == 1:\n",
        "    print(\"Produk perlu di-restock!\")\n",
        "else:\n",
        "    print(\"Stok masih cukup.\")\n"
      ],
      "metadata": {
        "colab": {
          "base_uri": "https://localhost:8080/"
        },
        "id": "DagVnlzb3oGa",
        "outputId": "5ede97d9-c302-4e65-c029-679da6b9c8ba"
      },
      "execution_count": 17,
      "outputs": [
        {
          "output_type": "stream",
          "name": "stdout",
          "text": [
            "Produk perlu di-restock!\n"
          ]
        },
        {
          "output_type": "stream",
          "name": "stderr",
          "text": [
            "/usr/local/lib/python3.11/dist-packages/sklearn/utils/validation.py:2739: UserWarning: X does not have valid feature names, but DecisionTreeClassifier was fitted with feature names\n",
            "  warnings.warn(\n"
          ]
        }
      ]
    },
    {
      "cell_type": "code",
      "source": [
        "import matplotlib.pyplot as plt\n",
        "\n",
        "plt.scatter(df[\"Jumlah Terjual\"], df[\"Stok\"], c=df[\"Keuntungan\"], cmap=\"coolwarm\")\n",
        "plt.xlabel(\"Jumlah Terjual\")\n",
        "plt.ylabel(\"Stok\")\n",
        "plt.title(\"Analisis Penjualan dan Stok\")\n",
        "plt.colorbar(label=\"Keuntungan\")\n",
        "plt.show()\n"
      ],
      "metadata": {
        "colab": {
          "base_uri": "https://localhost:8080/",
          "height": 472
        },
        "id": "nFlJ5xsC4Tt7",
        "outputId": "1bada5ec-15d1-4f31-a01d-2972fd69d186"
      },
      "execution_count": 18,
      "outputs": [
        {
          "output_type": "display_data",
          "data": {
            "text/plain": [
              "<Figure size 640x480 with 2 Axes>"
            ],
            "image/png": "[encoded data removed]"
          },
          "metadata": {}
        }
      ]
    },
    {
      "cell_type": "code",
      "source": [],
      "metadata": {
        "id": "v__pyrQN48h0"
      },
      "execution_count": null,
      "outputs": []
    }
  ]
}